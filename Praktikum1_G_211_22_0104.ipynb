{
  "nbformat": 4,
  "nbformat_minor": 0,
  "metadata": {
    "colab": {
      "provenance": []
    },
    "kernelspec": {
      "name": "python3",
      "display_name": "Python 3"
    },
    "language_info": {
      "name": "python"
    }
  },
  "cells": [
    {
      "cell_type": "code",
      "execution_count": 5,
      "metadata": {
        "colab": {
          "base_uri": "https://localhost:8080/"
        },
        "id": "Cp1glq8eAzzX",
        "outputId": "56df116c-ad24-4238-907b-d5367093c2a4"
      },
      "outputs": [
        {
          "output_type": "stream",
          "name": "stdout",
          "text": [
            "angka Genap : \n",
            " [2, 4, 6, 8, 10, 12, 14, 16, 18]\n",
            "\n",
            "Jumlah Index angka genap (len) : \n",
            " 9\n",
            "\n",
            "Jumlah Nilai 5 Dalam angka (count) : \n",
            " 0\n",
            "\n",
            "Menambah element dalam genap (append) : \n",
            "Angka Genap :  [2, 4, 6, 8, 10, 12, 14, 16, 18, 20, 10]\n",
            "\n",
            "Index ke 8 (index) : \n",
            " 3\n",
            "\n",
            "Tambah Nilai angka (Insert) : \n",
            " [2, 4, 12, 6, 8, 10, 12, 14, 16, 18, 20, 10]\n",
            "\n",
            "List Nilai (pop) : \n",
            " [2, 4, 12, 6, 8, 10, 12, 14, 16, 18]\n",
            "\n",
            "Angka Genap (remove) : \n",
            " [12, 6, 8, 10, 12, 14, 16, 18]\n",
            "\n",
            "Angka Genap (extend : \n",
            " [12, 6, 8, 10, 12, 14, 16, 18, 4, 6, 8, 10]\n",
            "\n",
            "Angka Genap (reverse) : \n",
            " [10, 8, 6, 4, 18, 16, 14, 12, 10, 8, 6, 12]\n",
            "\n",
            "Angka Genap (sort) : \n",
            " [4, 6, 6, 8, 8, 10, 10, 12, 12, 14, 16, 18]\n",
            "\n",
            "Angka Terbanyak (max) : \n",
            " 18\n",
            "\n",
            "Angka terendah (min) : \n",
            " 4\n",
            "\n",
            "Total penjumlahan Nilai dari Angka_Genap (sum) : \n",
            " 124\n"
          ]
        }
      ],
      "source": [
        "#Deklarasi Angka\n",
        "angka_genap = [2,4,6,8,10,12,14,16,18]\n",
        "#tampilkan angka\n",
        "print(\"angka Genap : \\n\",angka_genap)\n",
        "#menggunakan len\n",
        "print(\"\\nJumlah Index angka genap (len) : \\n\", len(angka_genap))\n",
        "#menggunakan count\n",
        "print(\"\\nJumlah Nilai 5 Dalam angka (count) : \\n\", angka_genap.count(5))\n",
        "#Menggunakan append\n",
        "print(\"\\nMenambah element dalam genap (append) : \")\n",
        "angka_genap.append(20)\n",
        "angka_genap.append(10)\n",
        "print(\"Angka Genap : \",angka_genap)\n",
        "#Menggunakan index\n",
        "print(\"\\nIndex ke 8 (index) : \\n\", angka_genap.index(8))\n",
        "#Menggunakan insert\n",
        "angka_genap.insert(2,12)\n",
        "print(\"\\nTambah Nilai angka (Insert) : \\n\", angka_genap)\n",
        "#Menggunakan pop\n",
        "angka_genap.pop()\n",
        "angka_genap.pop()\n",
        "print(\"\\nList Nilai (pop) : \\n\",angka_genap)\n",
        "#Menggunakan remove\n",
        "angka_genap.remove(2)\n",
        "angka_genap.remove(4)\n",
        "print(\"\\nAngka Genap (remove) : \\n\", angka_genap)\n",
        "#Menggunakan extend\n",
        "angka_genap2 = [4,6,8,10]\n",
        "angka_genap.extend(angka_genap2)\n",
        "print(\"\\nAngka Genap (extend : \\n\", angka_genap)\n",
        "#Menggunakan reverse\n",
        "angka_genap.reverse()\n",
        "print(\"\\nAngka Genap (reverse) : \\n\", angka_genap)\n",
        "#Menggunakan sort\n",
        "angka_genap.sort()\n",
        "print(\"\\nAngka Genap (sort) : \\n\", angka_genap)\n",
        "#Menggunakan Max\n",
        "print(\"\\nAngka Terbanyak (max) : \\n\", max(angka_genap))\n",
        "#Mengguankan min\n",
        "print(\"\\nAngka terendah (min) : \\n\", min(angka_genap))\n",
        "#Menggunakan Sum\n",
        "print(\"\\nTotal penjumlahan Nilai dari Angka_Genap (sum) : \\n\",\n",
        "sum(angka_genap))"
      ]
    },
    {
      "cell_type": "code",
      "source": [
        "#Deklarasi List\n",
        "list_nilai = [1,2,3,4,5,6,7,8,9,10]\n",
        "#tampilkan list\n",
        "print(\"List Nilai : \\n\",list_nilai)\n",
        "#menggunakan len\n",
        "print(\"\\nJumlah Index list nilai (len) : \\n\", len(list_nilai))\n",
        "#menggunakan count\n",
        "print(\"\\nJumlah Nilai 5 Dalam List (count) : \\n\", list_nilai.count(5))\n",
        "#Menggunakan append\n",
        "print(\"\\nMenambah element dalam list (append) : \")\n",
        "list_nilai.append(12)\n",
        "list_nilai.append(10)\n",
        "print(\"List Nilai : \",list_nilai)\n",
        "#Menggunakan index\n",
        "print(\"\\nIndex ke 8 (index) : \\n\", list_nilai.index(8))\n",
        "#Menggunakan insert\n",
        "list_nilai.insert(1,12)\n",
        "print(\"\\nTambah Nilai List (Insert) : \\n\", list_nilai)\n",
        "#Menggunakan pop\n",
        "list_nilai.pop()\n",
        "list_nilai.pop()\n",
        "print(\"\\nList Nilai (pop) : \\n\",list_nilai)\n",
        "#Menggunakan remove\n",
        "list_nilai.remove(2)\n",
        "list_nilai.remove(1)\n",
        "print(\"\\nList Nilai (remove) : \\n\", list_nilai)\n",
        "#Menggunakan extend\n",
        "list_nilai2 = [4,3,8,7]\n",
        "list_nilai.extend(list_nilai2)\n",
        "print(\"\\nList Nilai (extend : \\n\", list_nilai)\n",
        "#Menggunakan reverse\n",
        "list_nilai.reverse()\n",
        "print(\"\\nList Nilai (reverse) : \\n\", list_nilai)\n",
        "#Menggunakan sort\n",
        "list_nilai.sort()\n",
        "print(\"\\nList Nilai (sort) : \\n\", list_nilai)\n",
        "#Menggunakan Max\n",
        "print(\"\\nNilai Terbanyak (max) : \\n\", max(list_nilai))\n",
        "#Mengguankan min\n",
        "print(\"\\nNilai terendah (min) : \\n\", min(list_nilai))\n",
        "#Menggunakan Sum\n",
        "print(\"\\nTotal penjumlahan nilai dari list_nilai (sum) : \\n\",\n",
        "sum(list_nilai))"
      ],
      "metadata": {
        "id": "8DGj5huvLjpD",
        "colab": {
          "base_uri": "https://localhost:8080/"
        },
        "outputId": "f4df61f2-aa95-474c-a21c-b6ae29e70168"
      },
      "execution_count": 7,
      "outputs": [
        {
          "output_type": "stream",
          "name": "stdout",
          "text": [
            "List Nilai : \n",
            " [1, 2, 3, 4, 5, 6, 7, 8, 9, 10]\n",
            "\n",
            "Jumlah Index list nilai (len) : \n",
            " 10\n",
            "\n",
            "Jumlah Nilai 5 Dalam List (count) : \n",
            " 1\n",
            "\n",
            "Menambah element dalam list (append) : \n",
            "List Nilai :  [1, 2, 3, 4, 5, 6, 7, 8, 9, 10, 12, 10]\n",
            "\n",
            "Index ke 8 (index) : \n",
            " 7\n",
            "\n",
            "Tambah Nilai List (Insert) : \n",
            " [1, 12, 2, 3, 4, 5, 6, 7, 8, 9, 10, 12, 10]\n",
            "\n",
            "List Nilai (pop) : \n",
            " [1, 12, 2, 3, 4, 5, 6, 7, 8, 9, 10]\n",
            "\n",
            "List Nilai (remove) : \n",
            " [12, 3, 4, 5, 6, 7, 8, 9, 10]\n",
            "\n",
            "List Nilai (extend : \n",
            " [12, 3, 4, 5, 6, 7, 8, 9, 10, 4, 3, 8, 7]\n",
            "\n",
            "List Nilai (reverse) : \n",
            " [7, 8, 3, 4, 10, 9, 8, 7, 6, 5, 4, 3, 12]\n",
            "\n",
            "List Nilai (sort) : \n",
            " [3, 3, 4, 4, 5, 6, 7, 7, 8, 8, 9, 10, 12]\n",
            "\n",
            "Nilai Terbanyak (max) : \n",
            " 12\n",
            "\n",
            "Nilai terendah (min) : \n",
            " 3\n",
            "\n",
            "Total penjumlahan nilai dari list_nilai (sum) : \n",
            " 86\n"
          ]
        }
      ]
    },
    {
      "cell_type": "code",
      "source": [
        "teman=[\"agus\",\"hendy\",\"vijja\",\"aldi\",\"vito\"]\n",
        "print(teman[4])\n",
        "print(\"isi teman indeks ke-4 adalah {}\".format(teman[4]) )\n",
        "print(\"semua teman: ada {} orang\".format(len(teman)) )\n",
        "for i in teman : print (i)"
      ],
      "metadata": {
        "colab": {
          "base_uri": "https://localhost:8080/"
        },
        "id": "SYE48tzoA1B1",
        "outputId": "590b1db9-074c-4214-f976-e5520399fb80"
      },
      "execution_count": null,
      "outputs": [
        {
          "output_type": "stream",
          "name": "stdout",
          "text": [
            "vito\n",
            "isi teman indeks ke-4 adalah vito\n",
            "semua teman: ada 5 orang\n",
            "agus\n",
            "hendy\n",
            "vijja\n",
            "aldi\n",
            "vito\n"
          ]
        }
      ]
    },
    {
      "cell_type": "code",
      "source": [
        "for i in range(5):\n",
        "  print(\"perulangan ke -\", 1)"
      ],
      "metadata": {
        "colab": {
          "base_uri": "https://localhost:8080/"
        },
        "id": "bUAElrZvFo_V",
        "outputId": "0b72b28d-e3f1-46b9-95e6-edd58b75eccc"
      },
      "execution_count": null,
      "outputs": [
        {
          "output_type": "stream",
          "name": "stdout",
          "text": [
            "perulangan ke - 1\n",
            "perulangan ke - 1\n",
            "perulangan ke - 1\n",
            "perulangan ke - 1\n",
            "perulangan ke - 1\n"
          ]
        }
      ]
    },
    {
      "cell_type": "code",
      "source": [],
      "metadata": {
        "id": "9tStbEGQ6wb-"
      },
      "execution_count": null,
      "outputs": []
    }
  ]
}