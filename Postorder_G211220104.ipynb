{
  "nbformat": 4,
  "nbformat_minor": 0,
  "metadata": {
    "colab": {
      "provenance": [],
      "authorship_tag": "ABX9TyPVHtkhgOHQY/HVng/aPr3t",
      "include_colab_link": true
    },
    "kernelspec": {
      "name": "python3",
      "display_name": "Python 3"
    },
    "language_info": {
      "name": "python"
    }
  },
  "cells": [
    {
      "cell_type": "markdown",
      "metadata": {
        "id": "view-in-github",
        "colab_type": "text"
      },
      "source": [
        "<a href=\"https://colab.research.google.com/github/mdimssptr/Praktikum_Struktur_Data_G.211.22.0104/blob/main/Postorder_G211220104.ipynb\" target=\"_parent\"><img src=\"https://colab.research.google.com/assets/colab-badge.svg\" alt=\"Open In Colab\"/></a>"
      ]
    },
    {
      "cell_type": "code",
      "execution_count": 1,
      "metadata": {
        "colab": {
          "base_uri": "https://localhost:8080/"
        },
        "id": "d8zxYeEq6i4X",
        "outputId": "8eb8ee0e-fb9e-4635-9453-8016b420d10b"
      },
      "outputs": [
        {
          "output_type": "stream",
          "name": "stdout",
          "text": [
            "4\n",
            "5\n",
            "2\n",
            "3\n",
            "1\n"
          ]
        }
      ],
      "source": [
        "class Node:\n",
        "  def __init__(self, key):\n",
        "    self.left = None\n",
        "    self.right = None\n",
        "    self.val = key\n",
        "\n",
        "# A function to do Postorder tree traversal\n",
        "def printPostorder(root):\n",
        "\n",
        "  if root:\n",
        "\n",
        "\n",
        "    printPostorder(root.left)\n",
        "\n",
        "\n",
        "    printPostorder(root.right)\n",
        "\n",
        "\n",
        "    print(root.val),\n",
        "\n",
        "# Driver code\n",
        "if __name__==\"__main__\":\n",
        "  root = Node(1)\n",
        "  root.left = Node(2)\n",
        "  root.right = Node(3)\n",
        "  root.left.left = Node(4)\n",
        "  root.left.right = Node(5)\n",
        "\n",
        "  # Function call\n",
        "  printend= \"\\nPostorder traversal of binary tree is\"\n",
        "  printPostorder(root)\n",
        ""
      ]
    },
    {
      "cell_type": "code",
      "source": [],
      "metadata": {
        "id": "Nz6GO-fY_CeR"
      },
      "execution_count": null,
      "outputs": []
    }
  ]
}