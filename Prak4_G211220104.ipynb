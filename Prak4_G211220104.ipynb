{
  "nbformat": 4,
  "nbformat_minor": 0,
  "metadata": {
    "colab": {
      "provenance": [],
      "authorship_tag": "ABX9TyNKfZsv7XwRLhW+SOsIdVVS",
      "include_colab_link": true
    },
    "kernelspec": {
      "name": "python3",
      "display_name": "Python 3"
    },
    "language_info": {
      "name": "python"
    }
  },
  "cells": [
    {
      "cell_type": "markdown",
      "metadata": {
        "id": "view-in-github",
        "colab_type": "text"
      },
      "source": [
        "<a href=\"https://colab.research.google.com/github/mdimssptr/Praktikum_Struktur_Data_G.211.22.0104/blob/main/Prak4_G211220104.ipynb\" target=\"_parent\"><img src=\"https://colab.research.google.com/assets/colab-badge.svg\" alt=\"Open In Colab\"/></a>"
      ]
    },
    {
      "cell_type": "code",
      "execution_count": 1,
      "metadata": {
        "colab": {
          "base_uri": "https://localhost:8080/"
        },
        "id": "KPfxdHiPX3at",
        "outputId": "18ef90de-5b44-4cef-89b9-f88599ead9ac"
      },
      "outputs": [
        {
          "output_type": "stream",
          "name": "stdout",
          "text": [
            "\"The quick brown fox jumps over the little lazy dog\"\n",
            "\n",
            "is a pangram\n"
          ]
        }
      ],
      "source": [
        "# A Python Program to check if the given\n",
        "# string is a pangram or not\n",
        "def checkPangram(s):\n",
        " List = []\n",
        "# create list of 26 characters and set false each entry\n",
        " for i in range(26):\n",
        "     List.append(False)\n",
        " # converting the sentence to lowercase and iterating\n",
        " # over the sentence\n",
        " for c in s.lower():\n",
        "     if not c == \" \":\n",
        "         # make the corresponding entry True\n",
        "          List[ord(c) - ord('a')] = True\n",
        " # check if any character is missing then return False\n",
        " for ch in List:\n",
        "     if ch == False:\n",
        "        return False\n",
        " return True\n",
        "# Driver Program to test above functions\n",
        "sentence = \"The quick brown fox jumps over the little lazy dog\"\n",
        "if (checkPangram(sentence)):\n",
        " print('\"'+sentence+'\"')\n",
        " print(\"\\nis a pangram\")\n",
        "else:\n",
        " print('\"'+sentence+'\"')\n",
        " print(\"\\nis not a pangram\")"
      ]
    }
  ]
}