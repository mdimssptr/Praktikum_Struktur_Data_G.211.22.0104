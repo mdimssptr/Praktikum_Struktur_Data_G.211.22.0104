{
  "nbformat": 4,
  "nbformat_minor": 0,
  "metadata": {
    "colab": {
      "provenance": [],
      "include_colab_link": true
    },
    "kernelspec": {
      "name": "python3",
      "display_name": "Python 3"
    },
    "language_info": {
      "name": "python"
    }
  },
  "cells": [
    {
      "cell_type": "markdown",
      "metadata": {
        "id": "view-in-github",
        "colab_type": "text"
      },
      "source": [
        "<a href=\"https://colab.research.google.com/github/mdimssptr/Praktikum_Struktur_Data_G.211.22.0104/blob/main/Praktikum2_G211220104.ipynb\" target=\"_parent\"><img src=\"https://colab.research.google.com/assets/colab-badge.svg\" alt=\"Open In Colab\"/></a>"
      ]
    },
    {
      "cell_type": "code",
      "execution_count": 1,
      "metadata": {
        "colab": {
          "base_uri": "https://localhost:8080/"
        },
        "id": "C7BbUAKJ-A6P",
        "outputId": "66feafa5-21a8-4244-a05e-eb9a4b0f3f1e"
      },
      "outputs": [
        {
          "output_type": "stream",
          "name": "stdout",
          "text": [
            "Isi tuple: ('Prima', 'Ganjil', 'Genap', 7, 9, 4)\n",
            "Elemen pertama: Prima\n",
            "Elemen ketiga: Genap\n",
            "Gabungan tuple: (7, 9, 4, 'x', 'y', 'z')\n",
            "Panjang tuple: 6\n",
            "Elemen-elemen tuple:\n",
            "7\n",
            "9\n",
            "4\n",
            "x\n",
            "y\n",
            "z\n",
            "z ada dalam tuple\n",
            "Setelah menghapus tuple : ('Bulat', 'Pecahan', 'Desimal', 8, 4)\n"
          ]
        }
      ],
      "source": [
        "# Membuat tuple\n",
        "my_tuple = ('Prima', 'Ganjil', 'Genap', 7, 9, 4)\n",
        "\n",
        "# Mengakses elemen tuple\n",
        "print(\"Isi tuple:\", my_tuple)\n",
        "print(\"Elemen pertama:\", my_tuple[0])\n",
        "print(\"Elemen ketiga:\", my_tuple[2])\n",
        "\n",
        "# Menggabungkan tuple\n",
        "tuple1 = (7, 9, 4)\n",
        "tuple2 = ('x', 'y', 'z')\n",
        "tuple3 = tuple1 + tuple2\n",
        "print(\"Gabungan tuple:\", tuple3)\n",
        "\n",
        "# Mengetahui panjang tuple\n",
        "print(\"Panjang tuple:\", len(tuple3))\n",
        "\n",
        "# Melakukan perulangan pada tuple\n",
        "print(\"Elemen-elemen tuple:\")\n",
        "for item in tuple3:\n",
        "    print(item)\n",
        "\n",
        "# Mengecek keanggotaan\n",
        "check_element = 'z'\n",
        "if check_element in tuple3:\n",
        "    print(f\"{check_element} ada dalam tuple\")\n",
        "else:\n",
        "    print(f\"{check_element} tidak ada dalam tuple\")\n",
        "\n",
        "# Menghapus tuple\n",
        "my_tuple = ('Prima', 'Ganjil', 'Genap', 7, 9, 4)\n",
        "\n",
        "del my_tuple\n",
        "\n",
        "my_tuple = ('Bulat', 'Pecahan', 'Desimal', 8, 4)\n",
        "print(\"Setelah menghapus tuple :\", my_tuple)"
      ]
    },
    {
      "cell_type": "code",
      "source": [
        "# Membuat dictionary\n",
        "my_dict = {'nama': 'Putra', 'umur': 20, 'pekerjaan': 'Agent Property', 'kota': 'Semarang'}\n",
        "\n",
        "# Mengakses nilai dictionary\n",
        "print(\"Isi dictionary:\", my_dict)\n",
        "print(\"Nama:\", my_dict['nama'])\n",
        "print(\"Umur:\", my_dict['umur'])\n",
        "\n",
        "# Menambahkan elemen baru ke dictionary\n",
        "my_dict['jenis kelamin'] = 'Pria'\n",
        "print(\"Setelah menambah elemen baru:\", my_dict)\n",
        "\n",
        "# Mengubah nilai dalam dictionary\n",
        "my_dict['pekerjaan'] = 'front end'\n",
        "print(\"Setelah merubahan elemen:\", my_dict)\n",
        "\n",
        "# Menghapus elemen dari dictionary\n",
        "del my_dict['kota']\n",
        "print(\"Setelah menghapus elemen:\", my_dict)\n",
        "\n",
        "# Menggunakan perulangan pada dictionary\n",
        "print(\"Elemen-elemen dictionary:\")\n",
        "for key, value in my_dict.items():\n",
        "    print(f\"{key}: {value}\")\n",
        "\n",
        "# Mengecek keberadaan kunci dalam dictionary\n",
        "check_key = 'pekerjaan'\n",
        "if check_key in my_dict:\n",
        "    print(f\"{check_key} ada dalam dictionary\")\n",
        "else:\n",
        "    print(f\"{check_key} tidak ada dalam dictionary\")\n"
      ],
      "metadata": {
        "colab": {
          "base_uri": "https://localhost:8080/"
        },
        "id": "SCyDRkLWCz4P",
        "outputId": "ddd411da-49c9-4c8a-f859-3ce8fbbb30a3"
      },
      "execution_count": 2,
      "outputs": [
        {
          "output_type": "stream",
          "name": "stdout",
          "text": [
            "Isi dictionary: {'nama': 'Putra', 'umur': 20, 'pekerjaan': 'Agent Property', 'kota': 'Semarang'}\n",
            "Nama: Putra\n",
            "Umur: 20\n",
            "Setelah menambah elemen baru: {'nama': 'Putra', 'umur': 20, 'pekerjaan': 'Agent Property', 'kota': 'Semarang', 'jenis kelamin': 'Pria'}\n",
            "Setelah merubahan elemen: {'nama': 'Putra', 'umur': 20, 'pekerjaan': 'front end', 'kota': 'Semarang', 'jenis kelamin': 'Pria'}\n",
            "Setelah menghapus elemen: {'nama': 'Putra', 'umur': 20, 'pekerjaan': 'front end', 'jenis kelamin': 'Pria'}\n",
            "Elemen-elemen dictionary:\n",
            "nama: Putra\n",
            "umur: 20\n",
            "pekerjaan: front end\n",
            "jenis kelamin: Pria\n",
            "pekerjaan ada dalam dictionary\n"
          ]
        }
      ]
    }
  ]
}