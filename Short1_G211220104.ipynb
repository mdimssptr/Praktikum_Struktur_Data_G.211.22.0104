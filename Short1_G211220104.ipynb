{
  "nbformat": 4,
  "nbformat_minor": 0,
  "metadata": {
    "colab": {
      "provenance": [],
      "authorship_tag": "ABX9TyNWQVfCcIQN/FLG3P0UEape",
      "include_colab_link": true
    },
    "kernelspec": {
      "name": "python3",
      "display_name": "Python 3"
    },
    "language_info": {
      "name": "python"
    }
  },
  "cells": [
    {
      "cell_type": "markdown",
      "metadata": {
        "id": "view-in-github",
        "colab_type": "text"
      },
      "source": [
        "<a href=\"https://colab.research.google.com/github/mdimssptr/Praktikum_Struktur_Data_G.211.22.0104/blob/main/Short1_G211220104.ipynb\" target=\"_parent\"><img src=\"https://colab.research.google.com/assets/colab-badge.svg\" alt=\"Open In Colab\"/></a>"
      ]
    },
    {
      "cell_type": "markdown",
      "source": [
        "Bubble short\n"
      ],
      "metadata": {
        "id": "dTWAdV8j7Hj9"
      }
    },
    {
      "cell_type": "code",
      "execution_count": 1,
      "metadata": {
        "id": "iTETJYx3L-FL",
        "colab": {
          "base_uri": "https://localhost:8080/"
        },
        "outputId": "93c55d3f-87a1-4199-cb86-0993097b8111"
      },
      "outputs": [
        {
          "output_type": "stream",
          "name": "stdout",
          "text": [
            "Sorted array is:\n",
            " 11  12  22  25  34  64  90 "
          ]
        }
      ],
      "source": [
        "def bubbleSort(arr):\n",
        "    n = len(arr)\n",
        "    swapped = False\n",
        "\n",
        "    for i in range(n-1):\n",
        "        for j in range(0, n-i-1):\n",
        "            if arr[j] > arr[j + 1]:\n",
        "               swapped = True\n",
        "               arr[j], arr[j + 1] = arr[j + 1], arr[j]\n",
        "\n",
        "\n",
        "# Driver code to test above\n",
        "arr = [64, 34, 25, 12, 22, 11, 90]\n",
        "\n",
        "bubbleSort(arr)\n",
        "\n",
        "print(\"Sorted array is:\")\n",
        "for i in range(len(arr)):\n",
        "    print(\"% d\" % arr[i], end=\" \")"
      ]
    },
    {
      "cell_type": "markdown",
      "source": [
        "Selection Short"
      ],
      "metadata": {
        "id": "J-tgS4JY7KiQ"
      }
    },
    {
      "cell_type": "code",
      "source": [
        "import sys\n",
        "A = [64, 25, 12, 22, 11]\n",
        "\n",
        "for i in range(len(A)):\n",
        "    min_idx = i\n",
        "    for j in range(i+1, len(A)):\n",
        "        if A[min_idx] > A[j]:\n",
        "             min_idx = j\n",
        "\n",
        "        A[i], A[min_idx] = A[min_idx], A[i]\n",
        "print (\"Sorted array\")\n",
        "for i in range(len(A)):\n",
        "    print(\"%d\" %A[i],end=\" \")\n",
        ""
      ],
      "metadata": {
        "colab": {
          "base_uri": "https://localhost:8080/"
        },
        "id": "qWm-uHN_67pC",
        "outputId": "44dd6253-1080-49ce-969e-b788aa8fdc6c"
      },
      "execution_count": 2,
      "outputs": [
        {
          "output_type": "stream",
          "name": "stdout",
          "text": [
            "Sorted array\n",
            "11 22 12 25 64 "
          ]
        }
      ]
    },
    {
      "cell_type": "markdown",
      "source": [
        "Insertion Short"
      ],
      "metadata": {
        "id": "vAJ7Ew6l7Ru7"
      }
    },
    {
      "cell_type": "code",
      "source": [
        "def insertionSort(arr):\n",
        "\n",
        "       for i in range(1, len(arr)):\n",
        "         key = arr[i]\n",
        "         j = i-1\n",
        "       while j >= 0 and key < arr[j] :\n",
        "         arr[j + 1] = arr[j]\n",
        "         j -= 1\n",
        "       arr[j + 1] = key\n",
        "# Driver code to test above\n",
        "arr = [12, 11, 13, 5, 6]\n",
        "insertionSort(arr)\n",
        "for i in range(len(arr)):\n",
        "    print (\"% d\" % arr[i])"
      ],
      "metadata": {
        "colab": {
          "base_uri": "https://localhost:8080/"
        },
        "id": "XytcIyQw7Q_x",
        "outputId": "41257eb5-043d-4ca9-b736-b41e53198800"
      },
      "execution_count": 3,
      "outputs": [
        {
          "output_type": "stream",
          "name": "stdout",
          "text": [
            " 12\n",
            " 11\n",
            " 13\n",
            " 5\n",
            " 6\n"
          ]
        }
      ]
    }
  ]
}